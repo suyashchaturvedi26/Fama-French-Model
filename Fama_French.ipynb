{
  "nbformat": 4,
  "nbformat_minor": 0,
  "metadata": {
    "colab": {
      "name": "Fama-French.ipynb",
      "provenance": [],
      "collapsed_sections": [
        "gJ_l0D5EU3BS"
      ],
      "include_colab_link": true
    },
    "kernelspec": {
      "display_name": "Python 3",
      "name": "python3"
    },
    "language_info": {
      "name": "python"
    }
  },
  "cells": [
    {
      "cell_type": "markdown",
      "metadata": {
        "id": "view-in-github",
        "colab_type": "text"
      },
      "source": [
        "<a href=\"https://colab.research.google.com/github/suyashchaturvedi26/Fama-French-Model/blob/main/Fama_French.ipynb\" target=\"_parent\"><img src=\"https://colab.research.google.com/assets/colab-badge.svg\" alt=\"Open In Colab\"/></a>"
      ]
    },
    {
      "cell_type": "code",
      "metadata": {
        "id": "IZ8eAS0Qe0JP"
      },
      "source": [
        "pip install xlsxwriter"
      ],
      "execution_count": null,
      "outputs": []
    },
    {
      "cell_type": "code",
      "metadata": {
        "id": "mPJdS3KpEZL-"
      },
      "source": [
        "# Importing the libraries\n",
        "import datetime\n",
        "import matplotlib.pyplot as plt\n",
        "import seaborn as sns\n",
        "import warnings\n",
        "from pylab import rcParams\n",
        "from scipy.stats import f_oneway\n",
        "from scipy.stats import ttest_ind as T\n",
        "import numpy as np\n",
        "import pandas as pd\n",
        "import plotly.graph_objects as go\n",
        "from pandas_datareader import DataReader as web\n",
        "from sklearn import linear_model\n",
        "import xlsxwriter"
      ],
      "execution_count": null,
      "outputs": []
    },
    {
      "cell_type": "code",
      "metadata": {
        "id": "occ-fPzsij4G"
      },
      "source": [
        "%matplotlib inline\n",
        "np.random.seed(8)\n",
        "warnings.filterwarnings('ignore')\n",
        "rcParams['figure.figsize']=20,10\n",
        "rcParams['font.size']=30"
      ],
      "execution_count": null,
      "outputs": []
    },
    {
      "cell_type": "markdown",
      "metadata": {
        "id": "2bLo4xz4L-mx"
      },
      "source": [
        "## CAR Calculation"
      ]
    },
    {
      "cell_type": "code",
      "metadata": {
        "id": "VrNO9gtDVLl3"
      },
      "source": [
        "# Reading all the data from excel sheets \n",
        "Historical_Data=pd.read_excel('NMP Output Sheet.xlsx',sheet_name='Historical Stock Prices')\n",
        "Three_Day_CAR =pd.read_excel('NMP Output Sheet.xlsx',sheet_name='3 Day CAR')\n",
        "Five_Day_CAR =pd.read_excel('NMP Output Sheet.xlsx',sheet_name='5 Day CAR')\n",
        "Seven_Day_CAR =pd.read_excel('NMP Output Sheet.xlsx',sheet_name='7 Day CAR')\n",
        "df_factors=pd.read_excel('NMP Output Sheet.xlsx',sheet_name='Factors')"
      ],
      "execution_count": null,
      "outputs": []
    },
    {
      "cell_type": "code",
      "metadata": {
        "id": "EUUGBWIcQHUr"
      },
      "source": [
        "Historical_Data=Historical_Data.merge(df_factors,on='Date',how='left')\n",
        "Historical_Data.head()"
      ],
      "execution_count": null,
      "outputs": []
    },
    {
      "cell_type": "code",
      "metadata": {
        "id": "EEmlKaZpJF3B"
      },
      "source": [
        "Company_List=Historical_Data['Symbol'].unique()\n",
        "Beta_Coef = pd.DataFrame(columns = ['Symbol', 'x1', 'x2','x3','x4','Intercept'])\n",
        "tmp=pd.DataFrame(columns = ['Symbol', 'x1', 'x2','x3','x4','Intercept'])\n",
        "\n",
        "for l in Company_List:\n",
        "  df_filtered=Historical_Data[Historical_Data['Symbol']==l] \n",
        "  y=df_filtered['Returns_Close']\n",
        "  X=df_filtered[['Rf %','Rm-Rf %','SMB %','HML %']]\n",
        "  regr = linear_model.LinearRegression()\n",
        "  regr.fit(X, y)\n",
        "  coef=pd.DataFrame(regr.coef_)\n",
        "  # print(regr.coef_)\n",
        "  tmp[['x1','x2','x3','x4']]=coef.T\n",
        "  tmp['Intercept']=regr.intercept_\n",
        "  tmp['Symbol']=l\n",
        "  Beta_Coef=Beta_Coef.append(tmp,True)\n",
        "\n",
        "\n",
        "Beta_Coef.head()"
      ],
      "execution_count": null,
      "outputs": []
    },
    {
      "cell_type": "code",
      "metadata": {
        "id": "q1mx4PPHf5lg"
      },
      "source": [
        "def data_merge(df1,df2,df3):\n",
        "  df1=df1.merge(df2,on='Date',how='left')\n",
        "  df1=df1.merge(df3,on=\"Symbol\",how='left')\n",
        "  return df1\n",
        "\n",
        "Three_Day_CAR=data_merge(Three_Day_CAR,df_factors,Beta_Coef)\n",
        "Five_Day_CAR=data_merge(Five_Day_CAR,df_factors,Beta_Coef)\n",
        "Seven_Day_CAR=data_merge(Seven_Day_CAR,df_factors,Beta_Coef)"
      ],
      "execution_count": null,
      "outputs": []
    },
    {
      "cell_type": "code",
      "metadata": {
        "id": "4nAO5NM0KLFc"
      },
      "source": [
        "def predicted_return(df):\n",
        "  df['Predicted Return']=df['x1']*df['Rf %']+df['x2']*df['Rm-Rf %']+df['x3']*df['SMB %']+df['x4']*df['HML %'] + df['Intercept']\n",
        "  return df\n",
        "\n",
        "\n",
        "Three_Day_CAR=predicted_return(Three_Day_CAR)\n",
        "\n",
        "Five_Day_CAR=predicted_return(Five_Day_CAR)\n",
        "\n",
        "Seven_Day_CAR=predicted_return(Seven_Day_CAR)"
      ],
      "execution_count": null,
      "outputs": []
    },
    {
      "cell_type": "code",
      "metadata": {
        "id": "jllKKXpsKi77"
      },
      "source": [
        "def abnormal_return(df):\n",
        "  df=df[['Date','Symbol','Returns_Close','Predicted Return']]\n",
        "  df['Abnormal Return']=df['Returns_Close'] - df['Predicted Return']\n",
        "  df['Date']=pd.to_datetime(df['Date'])\n",
        "  df['Year']=df['Date'].dt.year\n",
        "\n",
        "  return df\n",
        "\n",
        "Three_Day_CAR=abnormal_return(Three_Day_CAR)\n",
        "\n",
        "Five_Day_CAR=abnormal_return(Five_Day_CAR)\n",
        "\n",
        "Seven_Day_CAR=abnormal_return(Seven_Day_CAR)"
      ],
      "execution_count": null,
      "outputs": []
    },
    {
      "cell_type": "markdown",
      "metadata": {
        "id": "wsa9V4QudrXA"
      },
      "source": [
        "## **Demonetization Analysis**"
      ]
    },
    {
      "cell_type": "code",
      "metadata": {
        "id": "J-I7qMfWLc_I"
      },
      "source": [
        "d=datetime.datetime(2016, 11, 8)\n",
        "\n",
        "### 3 Day CAR\n",
        "Three_Day_Post_Demo=Three_Day_CAR.loc[Three_Day_CAR.Year > 2016]\n",
        "Three_Day_Pre_Demo=Three_Day_CAR.loc[Three_Day_CAR.Date < d]\n",
        "\n",
        "Three_Day_Pre_Demo.drop(columns=['Year'],inplace=True)\n",
        "Three_Day_Post_Demo.drop(columns=['Year'],inplace=True)\n",
        "\n",
        "### 5 Day CAR\n",
        "Five_Day_Post_Demo=Five_Day_CAR.loc[Five_Day_CAR.Year > 2016]\n",
        "Five_Day_Pre_Demo=Five_Day_CAR.loc[Five_Day_CAR.Date < d]\n",
        "\n",
        "Five_Day_Pre_Demo.drop(columns=['Year'],inplace=True)\n",
        "Five_Day_Post_Demo.drop(columns=['Year'],inplace=True)\n",
        "\n",
        "### 7 Day CAR\n",
        "Seven_Day_Post_Demo=Seven_Day_CAR.loc[Seven_Day_CAR.Year > 2016]\n",
        "Seven_Day_Pre_Demo=Seven_Day_CAR.loc[Seven_Day_CAR.Date < d]\n",
        "\n",
        "Seven_Day_Pre_Demo.drop(columns=['Year'],inplace=True)\n",
        "Seven_Day_Post_Demo.drop(columns=['Year'],inplace=True)"
      ],
      "execution_count": null,
      "outputs": []
    },
    {
      "cell_type": "code",
      "metadata": {
        "id": "Vi9TM9BCaybn"
      },
      "source": [
        "def CAR(df):\n",
        "  df1=df.groupby(['Symbol']).sum()\n",
        "  df1.rename(columns={\"Abnormal Return\": \"CAR\"},inplace=True)\n",
        "  df1['AAR']=df.groupby(['Symbol']).mean()['Abnormal Return']\n",
        "  df1.drop(columns=['Returns_Close','Predicted Return','AAR'],inplace=True)\n",
        "  return df1\n",
        "\n",
        "\n",
        "Three_Day_Pre_Demo_Data=CAR(Three_Day_Pre_Demo)\n",
        "Three_Day_Post_Demo_Data=CAR(Three_Day_Post_Demo)\n",
        "\n",
        "\n",
        "Five_Day_Pre_Demo_Data=CAR(Five_Day_Pre_Demo)\n",
        "Five_Day_Post_Demo_Data=CAR(Five_Day_Post_Demo)\n",
        "\n",
        "Seven_Day_Pre_Demo_Data=CAR(Seven_Day_Pre_Demo)\n",
        "Seven_Day_Post_Demo_Data=CAR(Seven_Day_Post_Demo)"
      ],
      "execution_count": null,
      "outputs": []
    },
    {
      "cell_type": "code",
      "metadata": {
        "id": "dD5zmUX3cW1C"
      },
      "source": [
        "t2, p2 = T(Three_Day_Pre_Demo_Data,Three_Day_Post_Demo_Data)\n",
        "t3, p3 = T(Five_Day_Pre_Demo_Data,Five_Day_Post_Demo_Data)\n",
        "t4, p4 = T(Seven_Day_Pre_Demo_Data,Seven_Day_Post_Demo_Data)\n",
        "\n",
        "\n",
        "t={'3 Day CAR':t2[0],'5 Day CAR':t3[0],'7 Day CAR':t4[0]}\n",
        "p={'3 Day CAR':p2[0],'5 Day CAR':p3[0],'7 Day CAR':p4[0]}\n",
        "\n",
        "Demo_t_test = pd.DataFrame.from_dict(t,orient='index',columns=['T-Stat'])\n",
        "Demo_p_test = pd.DataFrame.from_dict(p,orient='index',columns=['P-Stat'])\n",
        "Demo_Stats=Demo_t_test.merge(Demo_p_test,left_index=True, right_index=True)\n",
        "Demo_Stats"
      ],
      "execution_count": null,
      "outputs": []
    },
    {
      "cell_type": "markdown",
      "metadata": {
        "id": "5R2RfqGTtrhJ"
      },
      "source": [
        "## **COVID - 19 Analysis**"
      ]
    },
    {
      "cell_type": "code",
      "metadata": {
        "id": "6fKFMtQUtwS9"
      },
      "source": [
        "### 3 Day CAR\n",
        "Three_Day_Post_COVID=Three_Day_CAR.loc[Three_Day_CAR.Year > 2019]\n",
        "Three_Day_Pre_COVID=Three_Day_CAR.loc[Three_Day_CAR.Year < 2020]\n",
        "\n",
        "Three_Day_Pre_COVID.drop(columns=['Year'],inplace=True)\n",
        "Three_Day_Post_COVID.drop(columns=['Year'],inplace=True)\n",
        "\n",
        "### 5 Day CAR\n",
        "Five_Day_Post_COVID=Five_Day_CAR.loc[Five_Day_CAR.Year > 2019]\n",
        "Five_Day_Pre_COVID=Five_Day_CAR.loc[Five_Day_CAR.Year < 2020]\n",
        "\n",
        "Five_Day_Pre_COVID.drop(columns=['Year'],inplace=True)\n",
        "Five_Day_Post_COVID.drop(columns=['Year'],inplace=True)\n",
        "\n",
        "### 7 Day CAR\n",
        "Seven_Day_Post_COVID=Seven_Day_CAR.loc[Seven_Day_CAR.Year > 2019]\n",
        "Seven_Day_Pre_COVID=Seven_Day_CAR.loc[Seven_Day_CAR.Year < 2020]\n",
        "\n",
        "Seven_Day_Pre_COVID.drop(columns=['Year'],inplace=True)\n",
        "Seven_Day_Post_COVID.drop(columns=['Year'],inplace=True)"
      ],
      "execution_count": null,
      "outputs": []
    },
    {
      "cell_type": "code",
      "metadata": {
        "id": "ptmybBNQeXZd"
      },
      "source": [
        "def car_covid(df):\n",
        "  df1=df.groupby(['Symbol']).sum()\n",
        "  df1.rename(columns={\"Abnormal Return\": \"CAR\"},inplace=True)\n",
        "  df1['AAR']=df.groupby(['Symbol']).mean()['Abnormal Return']\n",
        "  df1.drop(columns=['Returns_Close','Predicted Return','AAR'],inplace=True)\n",
        "  \n",
        "  return df1\n",
        "\n",
        "Three_Day_Pre_COVID_Data=car_covid(Three_Day_Pre_COVID)\n",
        "Three_Day_Post_COVID_Data=car_covid(Three_Day_Post_COVID)\n",
        "\n",
        "Five_Day_Pre_COVID_Data=car_covid(Five_Day_Pre_COVID)\n",
        "Five_Day_Post_COVID_Data=car_covid(Five_Day_Post_COVID)\n",
        "\n",
        "Seven_Day_Pre_COVID_Data=car_covid(Seven_Day_Pre_COVID)\n",
        "Seven_Day_Post_COVID_Data=car_covid(Seven_Day_Post_COVID)"
      ],
      "execution_count": null,
      "outputs": []
    },
    {
      "cell_type": "code",
      "metadata": {
        "id": "H06eMa4nehQT"
      },
      "source": [
        "t2, p2 = T(Three_Day_Pre_COVID_Data,Three_Day_Post_COVID_Data)\n",
        "t3, p3 = T(Five_Day_Pre_COVID_Data,Five_Day_Post_COVID_Data)\n",
        "t4, p4 = T(Seven_Day_Pre_COVID_Data,Seven_Day_Post_COVID_Data)\n",
        "\n",
        "\n",
        "t={'3 Day CAR':t2[0],'5 Day CAR':t3[0],'7 Day CAR':t4[0]}\n",
        "p={'3 Day CAR':p2[0],'5 Day CAR':p3[0],'7 Day CAR':p4[0]}\n",
        "\n",
        "COVID_t_test = pd.DataFrame.from_dict(t,orient='index',columns=['T-Stat'])\n",
        "COVID_p_test = pd.DataFrame.from_dict(p,orient='index',columns=['P-Stat'])\n",
        "COVID_Stats=COVID_t_test.merge(COVID_p_test,left_index=True, right_index=True)\n",
        "COVID_Stats"
      ],
      "execution_count": null,
      "outputs": []
    },
    {
      "cell_type": "code",
      "metadata": {
        "id": "YKkbPguhfdSs"
      },
      "source": [
        "def plot_distribution(A1,A2,alpha):\n",
        "  plt.figure()\n",
        "  ax1=sns.distplot(A1.values)\n",
        "  ax2=sns.distplot(A2.values)\n",
        "  plt.axvline(np.mean(A1.values),color='b',linestyle='dashed',linewidth=5)\n",
        "  plt.axvline(np.mean(A2.values),color='orange',linestyle='dashed',linewidth=5)\n",
        "\n",
        "  stat, p=T(A1.values,A2.values)\n",
        "  print('Statistics=%.3f, p=%.3f' % (stat,p))\n",
        "  if(p > alpha):\n",
        "    print('Same distributions (fail to reject H0)')\n",
        "  else:\n",
        "    print('Different distributions (reject H0)')\n",
        "  \n",
        "  return plt.figure"
      ],
      "execution_count": null,
      "outputs": []
    },
    {
      "cell_type": "code",
      "metadata": {
        "id": "s2pi8yxShzUb"
      },
      "source": [
        "plot_distribution(Three_Day_Pre_COVID_Data,Three_Day_Post_COVID_Data,0.05)"
      ],
      "execution_count": null,
      "outputs": []
    },
    {
      "cell_type": "code",
      "metadata": {
        "id": "BhAhqfQXms1Q"
      },
      "source": [
        "plot_distribution(Three_Day_Pre_Demo_Data,Three_Day_Post_Demo_Data,0.05)"
      ],
      "execution_count": null,
      "outputs": []
    },
    {
      "cell_type": "code",
      "metadata": {
        "id": "-V3V5cj1nI9Z"
      },
      "source": [
        "plot_distribution(Five_Day_Pre_Demo_Data,Five_Day_Post_Demo_Data,0.05)"
      ],
      "execution_count": null,
      "outputs": []
    },
    {
      "cell_type": "code",
      "metadata": {
        "id": "rcp5FZmznRyk"
      },
      "source": [
        "plot_distribution(Five_Day_Pre_COVID_Data,Five_Day_Post_COVID_Data,0.05)"
      ],
      "execution_count": null,
      "outputs": []
    },
    {
      "cell_type": "code",
      "metadata": {
        "id": "yaP5mDwSnnP3"
      },
      "source": [
        "plot_distribution(Seven_Day_Pre_Demo_Data,Seven_Day_Post_Demo_Data,0.05)"
      ],
      "execution_count": null,
      "outputs": []
    },
    {
      "cell_type": "code",
      "metadata": {
        "id": "z1n7F3dXneSt"
      },
      "source": [
        "plot_distribution(Seven_Day_Pre_COVID_Data,Seven_Day_Post_COVID_Data,0.05)"
      ],
      "execution_count": null,
      "outputs": []
    },
    {
      "cell_type": "code",
      "metadata": {
        "id": "oyaJkpMmHyGT"
      },
      "source": [
        ""
      ],
      "execution_count": null,
      "outputs": []
    }
  ]
}