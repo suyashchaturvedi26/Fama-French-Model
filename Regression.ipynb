{
  "nbformat": 4,
  "nbformat_minor": 0,
  "metadata": {
    "colab": {
      "name": "Regression.ipynb",
      "provenance": [],
      "collapsed_sections": [],
      "toc_visible": true,
      "authorship_tag": "ABX9TyPnqsMc4B07rOsYMOsBn7Oe",
      "include_colab_link": true
    },
    "kernelspec": {
      "name": "python3",
      "display_name": "Python 3"
    },
    "language_info": {
      "name": "python"
    }
  },
  "cells": [
    {
      "cell_type": "markdown",
      "metadata": {
        "id": "view-in-github",
        "colab_type": "text"
      },
      "source": [
        "<a href=\"https://colab.research.google.com/github/suyashchaturvedi26/Fama-French-Model/blob/main/Regression.ipynb\" target=\"_parent\"><img src=\"https://colab.research.google.com/assets/colab-badge.svg\" alt=\"Open In Colab\"/></a>"
      ]
    },
    {
      "cell_type": "code",
      "metadata": {
        "id": "dihwYTKKgUhn"
      },
      "source": [
        "pip install xlsxwriter"
      ],
      "execution_count": null,
      "outputs": []
    },
    {
      "cell_type": "code",
      "metadata": {
        "id": "JmuZGafiIX2l"
      },
      "source": [
        "import pandas as pd\n",
        "import numpy as np\n",
        "import datetime\n",
        "from sklearn import datasets, linear_model\n",
        "from sklearn.linear_model import LinearRegression\n",
        "import statsmodels.api as sm\n",
        "from scipy import stats"
      ],
      "execution_count": null,
      "outputs": []
    },
    {
      "cell_type": "code",
      "metadata": {
        "id": "Xqiei2WOZUWJ"
      },
      "source": [
        "Offer_Premium=pd.read_excel('Regression.xlsx',sheet_name='Offer Premium')\n",
        "Three_Day_CAR=pd.read_excel('Regression.xlsx',sheet_name='3 Day CAR')\n",
        "Five_Day_CAR=pd.read_excel('Regression.xlsx',sheet_name='5 Day CAR')\n",
        "Seven_Day_CAR=pd.read_excel('Regression.xlsx',sheet_name='7 Day CAR')\n",
        "Fin_var=pd.read_excel('Regression.xlsx',sheet_name='Financial Variables')"
      ],
      "execution_count": null,
      "outputs": []
    },
    {
      "cell_type": "code",
      "metadata": {
        "id": "sbC4n80GZs6x"
      },
      "source": [
        "Fin_var=pd.get_dummies(Fin_var,prefix='Obj',columns=['Object of the Offer'])\n",
        "Fin_var.drop(columns=['Obj_CONSOLIDATION OF HOLDINGS'],inplace=True)\n",
        "Fin_var.head()"
      ],
      "execution_count": null,
      "outputs": []
    },
    {
      "cell_type": "markdown",
      "metadata": {
        "id": "5qveRTonJC8v"
      },
      "source": [
        "## Demonetization"
      ]
    },
    {
      "cell_type": "code",
      "metadata": {
        "id": "Ux7oc91CTrrM"
      },
      "source": [
        "def Demo_Regression(df2,df3,str):\n",
        "  d=datetime.datetime(2016, 11, 8)\n",
        "  df2=df2.merge(df3,on='Symbol',how='left')\n",
        "  df2=df2[df2['Ln(Market Cap)'].notna()]\n",
        "  df2['Demo_Dummy']= np.where((df2.Date > d), 0, 1)\n",
        "  df2.drop(columns=['Date','Target Company'],inplace=True)\n",
        "  df2.set_index('Symbol',inplace=True)\n",
        "  \n",
        "  y=df2[str]\n",
        "  X=df2.drop(columns=str)\n",
        "  X2 = sm.add_constant(X)\n",
        "  est = sm.OLS(y, X2)\n",
        "  est2 = est.fit()\n",
        "  print(est2.summary())\n",
        "\n",
        "Offer_Premium_Values=Demo_Regression(Offer_Premium,Fin_var,'Offer Premium')"
      ],
      "execution_count": null,
      "outputs": []
    },
    {
      "cell_type": "code",
      "metadata": {
        "id": "5VI2_axXZ2_r"
      },
      "source": [
        "ThreeDayCAR=Demo_Regression(Three_Day_CAR,Fin_var,'CAR')"
      ],
      "execution_count": null,
      "outputs": []
    },
    {
      "cell_type": "code",
      "metadata": {
        "id": "1LGlBnc8Z5LL"
      },
      "source": [
        "FiveDayCAR=Demo_Regression(Five_Day_CAR,Fin_var,'CAR')"
      ],
      "execution_count": null,
      "outputs": []
    },
    {
      "cell_type": "code",
      "metadata": {
        "id": "908Ug8fMZ9d5"
      },
      "source": [
        "SevenDayCAR=Demo_Regression(Seven_Day_CAR,Fin_var,'CAR')"
      ],
      "execution_count": null,
      "outputs": []
    },
    {
      "cell_type": "markdown",
      "metadata": {
        "id": "jvZ2BsTTJG5m"
      },
      "source": [
        "## COVID-19\n"
      ]
    },
    {
      "cell_type": "code",
      "metadata": {
        "id": "MWoOJOgpWgZ9"
      },
      "source": [
        "def COVID_Regression(df2,df3,str):\n",
        "  df2=df2.merge(df3,on='Symbol',how='left')\n",
        "  df2=df2[df2['Ln(Market Cap)'].notna()]\n",
        "  df2['COVID_Dummy']= np.where((df2.Date.dt.year > 2019), 0, 1)\n",
        "  df2.drop(columns=['Date','Target Company'],inplace=True)\n",
        "  df2.set_index('Symbol',inplace=True)\n",
        "  \n",
        "  y=df2[str]\n",
        "  X=df2.drop(columns=str)\n",
        "  X2 = sm.add_constant(X)\n",
        "  est = sm.OLS(y, X2)\n",
        "  est2 = est.fit()\n",
        "  print(est2.summary())\n",
        "\n",
        "Offer_Premium_Values=COVID_Regression(Offer_Premium,Fin_var,'Offer Premium')"
      ],
      "execution_count": null,
      "outputs": []
    },
    {
      "cell_type": "code",
      "metadata": {
        "id": "l7u6FdFWbUFf"
      },
      "source": [
        "ThreeDayCAR=COVID_Regression(Three_Day_CAR,Fin_var,'CAR')"
      ],
      "execution_count": null,
      "outputs": []
    },
    {
      "cell_type": "code",
      "metadata": {
        "id": "OC-pv_4XbV_4"
      },
      "source": [
        "FiveDayCAR=COVID_Regression(Five_Day_CAR,Fin_var,'CAR')"
      ],
      "execution_count": null,
      "outputs": []
    },
    {
      "cell_type": "code",
      "metadata": {
        "id": "FYJRg7R0bWnM"
      },
      "source": [
        "SevenDayCAR=COVID_Regression(Seven_Day_CAR,Fin_var,'CAR')"
      ],
      "execution_count": null,
      "outputs": []
    }
  ]
}